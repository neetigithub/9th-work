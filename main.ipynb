{
  "nbformat": 4,
  "nbformat_minor": 0,
  "metadata": {
    "colab": {
      "name": "main.ipynb",
      "provenance": [],
      "include_colab_link": true
    },
    "kernelspec": {
      "name": "python3",
      "display_name": "Python 3"
    }
  },
  "cells": [
    {
      "cell_type": "markdown",
      "metadata": {
        "id": "view-in-github",
        "colab_type": "text"
      },
      "source": [
        "<a href=\"https://colab.research.google.com/github/neetigithub/9th-work/blob/master/main.ipynb\" target=\"_parent\"><img src=\"https://colab.research.google.com/assets/colab-badge.svg\" alt=\"Open In Colab\"/></a>"
      ]
    },
    {
      "cell_type": "code",
      "metadata": {
        "id": "IuZ5dG7nZpNH",
        "colab_type": "code",
        "colab": {}
      },
      "source": [
        "import pandas as pd\n",
        "import numpy as np\n",
        "from sklearn.model_selection import cross_val_score\n",
        "import random\n",
        "import matplotlib.pyplot as plt\n",
        "from sklearn.model_selection import GridSearchCV\n",
        "from sklearn.preprocessing import StandardScaler\n",
        "from sklearn.svm import SVR\n",
        "import matplotlib.pyplot as plt"
      ],
      "execution_count": null,
      "outputs": []
    },
    {
      "cell_type": "code",
      "metadata": {
        "id": "kYjMq2GqPifs",
        "colab_type": "code",
        "colab": {
          "base_uri": "https://localhost:8080/",
          "height": 230
        },
        "outputId": "2820aea0-5b67-4915-bb9f-f78cae991d38"
      },
      "source": [
        "print(\"With scaling: \")\n",
        "urls = {'normal':\"https://raw.githubusercontent.com/saranshtaneja/genetic_major/master/fb_dataset.csv\",\n",
        "        'ga':'https://raw.githubusercontent.com/manan-arya/Major_Project/pso%2B/after_ga.csv',\n",
        "        'pso':'https://raw.githubusercontent.com/manan-arya/Major_Project/pso%2B/after_pso.csv',\n",
        "        'bat':'https://raw.githubusercontent.com/manan-arya/Major_Project/pso%2B/after_bat.csv',\n",
        "        'dragon':'https://raw.githubusercontent.com/manan-arya/Major_Project/pso%2B/after_dragon.csv',\n",
        "        'ga+bat':'https://raw.githubusercontent.com/manan-arya/Major_Project/pso%2B/after_ga%2Bbat.csv',\n",
        "        'pso+bat':'https://github.com/manan-arya/Major_Project/raw/pso%2B/after_pso%2Bbat.csv',\n",
        "        'ga+dragon':'https://raw.githubusercontent.com/manan-arya/Major_Project/pso%2B/after_ga%2Bdragon.csv',\n",
        "        'pso+dragon':'https://raw.githubusercontent.com/manan-arya/Major_Project/pso%2B/after_pso%2Bdragon.csv',\n",
        "        'bat+dragon':'https://raw.githubusercontent.com/manan-arya/Major_Project/pso%2B/after_bat%2Bdragon.csv',\n",
        "        'bat+pso':'https://raw.githubusercontent.com/manan-arya/Major_Project/pso%2B/after_bat%2Bpso.csv'\n",
        "        }\n",
        "plt_x = []\n",
        "plt_y = []\n",
        "tick_label = []\n",
        "for name, url in urls.items():\n",
        "  data = pd.read_csv(url)\n",
        "  y = data.iloc[0:,data.shape[1]-1].values\n",
        "  X = data.iloc[0:,:data.shape[1]-1].values\n",
        "  sc_x=StandardScaler()\n",
        "  sc_y=StandardScaler()\n",
        "  x=sc_x.fit_transform(X)\n",
        "  y=sc_y.fit_transform(y.reshape(-1,1))\n",
        "  y=y.ravel()\n",
        "  svm = SVR(kernel='rbf',C = 10000)\n",
        "  #clf = GridSearchCV(svr, parameters)\n",
        "  #clf.fit(x, y)\n",
        "  #GridSearchCV(estimator=svr,\n",
        "  #            param_grid={'C': [1, 10000], 'epsilon': [0,2]})\n",
        "  #score = np.mean(cross_val_score(svr, x, y,  cv=5,  scoring=None))\n",
        "  from sklearn.model_selection import train_test_split\n",
        "  X_train, X_test, y_train, y_test = train_test_split(x, y, test_size=0.33, random_state=42)\n",
        "  svm = svm.fit(X_train, y_train)\n",
        "  score = svm.score(X_test,y_test)\n",
        "  print(str(name)+' '+str(score)+' features: '+str(data.shape[1]))\n",
        "  plt_x.append(data.shape[1])\n",
        "  plt_y.append(score)\n",
        "  tick_label.append(name)"
      ],
      "execution_count": null,
      "outputs": [
        {
          "output_type": "stream",
          "text": [
            "With scaling: \n",
            "normal 0.7825172435378249 features: 702\n",
            "ga 0.7887911577569335 features: 467\n",
            "pso 0.8188289467500401 features: 326\n",
            "bat 0.8156816026359341 features: 224\n",
            "dragon 0.8595352806879968 features: 28\n",
            "ga+bat 0.8219968025888797 features: 161\n",
            "pso+bat 0.7818050429120978 features: 27\n",
            "ga+dragon 0.8234706653673358 features: 220\n",
            "pso+dragon 0.8254354906944323 features: 115\n",
            "bat+dragon 0.8272360392768912 features: 103\n",
            "bat+pso 0.8277778940983896 features: 105\n"
          ],
          "name": "stdout"
        }
      ]
    },
    {
      "cell_type": "code",
      "metadata": {
        "id": "plmqGUthJRX0",
        "colab_type": "code",
        "colab": {
          "base_uri": "https://localhost:8080/",
          "height": 278
        },
        "outputId": "16b1f2f2-9782-419a-b42c-0653d46e57a8"
      },
      "source": [
        "plt.bar(plt_x, plt_y, tick_label=tick_label,\n",
        "        width=76, color=['orange', 'green'])\n",
        "plt.xlabel(\"Features\")\n",
        "plt.ylabel(\"Score\")\n",
        "plt.show()"
      ],
      "execution_count": null,
      "outputs": [
        {
          "output_type": "display_data",
          "data": {
            "image/png": "[encoded data removed]",
            "text/plain": [
              "<Figure size 432x288 with 1 Axes>"
            ]
          },
          "metadata": {
            "tags": [],
            "needs_background": "light"
          }
        }
      ]
    },
    {
      "cell_type": "code",
      "metadata": {
        "id": "ORkgngPjnL0F",
        "colab_type": "code",
        "colab": {}
      },
      "source": [
        ""
      ],
      "execution_count": null,
      "outputs": []
    },
    {
      "cell_type": "code",
      "metadata": {
        "id": "CpTn8Un1SYwu",
        "colab_type": "code",
        "colab": {
          "base_uri": "https://localhost:8080/",
          "height": 230
        },
        "outputId": "fc1e1af6-1d6e-4aca-e308-62ba9f63ba1e"
      },
      "source": [
        "print(\"Without scaling: \")\n",
        "urls = {'normal':\"https://raw.githubusercontent.com/saranshtaneja/genetic_major/master/fb_dataset.csv\",\n",
        "        'ga':'https://raw.githubusercontent.com/manan-arya/Major_Project/pso%2B/after_ga.csv',\n",
        "        'pso':'https://raw.githubusercontent.com/manan-arya/Major_Project/pso%2B/after_pso.csv',\n",
        "        'bat':'https://raw.githubusercontent.com/manan-arya/Major_Project/pso%2B/after_bat.csv',\n",
        "        'dragon':'https://raw.githubusercontent.com/manan-arya/Major_Project/pso%2B/after_dragon.csv',\n",
        "        'ga+bat':'https://raw.githubusercontent.com/manan-arya/Major_Project/pso%2B/after_ga%2Bbat.csv',\n",
        "        'pso+bat':'https://github.com/manan-arya/Major_Project/raw/pso%2B/after_pso%2Bbat.csv',\n",
        "        'ga+dragon':'https://raw.githubusercontent.com/manan-arya/Major_Project/pso%2B/after_ga%2Bdragon.csv',\n",
        "        'pso+dragon':'https://raw.githubusercontent.com/manan-arya/Major_Project/pso%2B/after_pso%2Bdragon.csv',\n",
        "        'bat+dragon':'https://raw.githubusercontent.com/manan-arya/Major_Project/pso%2B/after_bat%2Bdragon.csv',\n",
        "        'bat+pso':'https://raw.githubusercontent.com/manan-arya/Major_Project/pso%2B/after_bat%2Bpso.csv'\n",
        "        }\n",
        "for name, url in urls.items():\n",
        "  data = pd.read_csv(url)\n",
        "  y = data.iloc[0:,data.shape[1]-1].values\n",
        "  X = data.iloc[0:,:data.shape[1]-1].values\n",
        "  sc_x=StandardScaler()\n",
        "  sc_y=StandardScaler()\n",
        "  x=sc_x.fit_transform(X)\n",
        "  y=sc_y.fit_transform(y.reshape(-1,1))\n",
        "  y=y.ravel()\n",
        "  svm = SVR(kernel='rbf',C = 10000)\n",
        "  #clf = GridSearchCV(svr, parameters)\n",
        "  #clf.fit(x, y)\n",
        "  #GridSearchCV(estimator=svr,\n",
        "  #            param_grid={'C': [1, 10000], 'epsilon': [0,2]})\n",
        "  #score = np.mean(cross_val_score(svr, x, y,  cv=5,  scoring=None))\n",
        "  from sklearn.model_selection import train_test_split\n",
        "  X_train, X_test, y_train, y_test = train_test_split(X, y, test_size=0.33, random_state=42)\n",
        "  svm = svm.fit(X_train, y_train)\n",
        "  score = svm.score(X_test,y_test)\n",
        "  print(str(name)+' '+str(score)+' features: '+str(data.shape[1]))"
      ],
      "execution_count": null,
      "outputs": [
        {
          "output_type": "stream",
          "text": [
            "Without scaling: \n",
            "normal 0.06572875249279764 features: 702\n",
            "ga 0.9589618254939104 features: 467\n",
            "pso 0.9586412106350963 features: 326\n",
            "bat 0.9618128800273178 features: 224\n",
            "dragon 0.9779467886386511 features: 28\n",
            "ga+bat 0.9603978773442073 features: 161\n",
            "pso+bat 0.8954814898651123 features: 27\n",
            "ga+dragon 0.9616023238608468 features: 220\n",
            "pso+dragon 0.9583018977563926 features: 115\n",
            "bat+dragon 0.9569097684013007 features: 103\n",
            "bat+pso 0.954170589638352 features: 105\n"
          ],
          "name": "stdout"
        }
      ]
    }
  ]
}